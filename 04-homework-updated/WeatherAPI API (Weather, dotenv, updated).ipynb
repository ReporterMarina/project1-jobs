{
 "cells": [
  {
   "attachments": {},
   "cell_type": "markdown",
   "metadata": {},
   "source": [
    "# WeatherAPI (WeatherAPI, hiding API keys)\n",
    "\n",
    "Answer the following questions using [WeatherAPI](http://www.weatherapi.com/). It's a smaller assignment than the last weather one, and mostly serves to get you used to creating API urls and using `python-dotenv`.\n",
    "\n",
    "Hold `Shift` and hit `Enter` to run a cell, and use the `+` on the top left to add a new cell to a notebook. Be sure to take advantage of both the documentation and the API Explorer!\n",
    "\n",
    "## 0) Import any libraries you might need\n",
    "\n",
    "- *Tip: We're going to be downloading things from the internet, so we probably need `requests`.*\n",
    "- *Tip: Remember you only need to import requests once!*"
   ]
  },
  {
   "cell_type": "code",
   "execution_count": 4,
   "metadata": {
    "collapsed": true
   },
   "outputs": [],
   "source": [
    "import requests"
   ]
  },
  {
   "cell_type": "code",
   "execution_count": null,
   "metadata": {},
   "outputs": [],
   "source": []
  },
  {
   "attachments": {},
   "cell_type": "markdown",
   "metadata": {},
   "source": [
    "## 1) Use the `python-dotenv` package to import your WeatherAPI API key\n",
    "\n",
    "We're going to be posting this code on GitHub, so you'll want to hide your API keys! Take a look at [this video](https://www.youtube.com/watch?v=YdgIWTYQ69A) about how to hide API keys from public view while still using them. It involves creating a separate `.env` file (use either VS Code or create it using Jupyter) that includes your API key, then importing it with [python-dotenv](https://github.com/theskumar/python-dotenv).\n",
    "\n",
    "Save this as a variable called `API_KEY`."
   ]
  },
  {
   "cell_type": "code",
   "execution_count": 90,
   "metadata": {
    "collapsed": true
   },
   "outputs": [
    {
     "name": "stdout",
     "output_type": "stream",
     "text": [
      "URL is https://example.com//api/?api_key=2ff180babcd44b37a7a10233232206\n",
      "2ff180babcd44b37a7a10233232206\n"
     ]
    }
   ],
   "source": [
    "from dotenv import load_dotenv\n",
    "import os\n",
    "\n",
    "load_dotenv() #take environmental variables from .env\n",
    "\n",
    "#print(os.getenv(\"PATH\"))\n",
    "api_key = os.getenv(\"api_key\")\n",
    "\n",
    "url = f\"https://example.com//api/?api_key={api_key}\"\n",
    "print(\"URL is\", url)\n",
    "print(os.getenv(\"api_key\"))\n",
    "\n",
    "API_KEY = os.getenv(\"LAST_FM_API_KEY\")"
   ]
  },
  {
   "attachments": {},
   "cell_type": "markdown",
   "metadata": {},
   "source": [
    "## 2) Print the URL for the current forecast in New York City\n",
    "\n",
    "This is really just a test to make sure you can still create a URL when the API key is read in as a variable."
   ]
  },
  {
   "cell_type": "code",
   "execution_count": 72,
   "metadata": {},
   "outputs": [
    {
     "name": "stdout",
     "output_type": "stream",
     "text": [
      "{'location': {'name': 'New York', 'region': 'New York', 'country': 'United States of America', 'lat': 40.71, 'lon': -74.01, 'tz_id': 'America/New_York', 'localtime_epoch': 1687832728, 'localtime': '2023-06-26 22:25'}, 'current': {'last_updated_epoch': 1687832100, 'last_updated': '2023-06-26 22:15', 'temp_c': 22.2, 'temp_f': 72.0, 'is_day': 0, 'condition': {'text': 'Partly cloudy', 'icon': '//cdn.weatherapi.com/weather/64x64/night/116.png', 'code': 1003}, 'wind_mph': 5.6, 'wind_kph': 9.0, 'wind_degree': 60, 'wind_dir': 'ENE', 'pressure_mb': 1008.0, 'pressure_in': 29.76, 'precip_mm': 0.0, 'precip_in': 0.0, 'humidity': 73, 'cloud': 75, 'feelslike_c': 24.7, 'feelslike_f': 76.5, 'vis_km': 16.0, 'vis_miles': 9.0, 'uv': 1.0, 'gust_mph': 18.8, 'gust_kph': 30.2, 'air_quality': {'co': 370.5, 'no2': 18.700000762939453, 'o3': 80.0999984741211, 'so2': 4.699999809265137, 'pm2_5': 19.700000762939453, 'pm10': 25.100000381469727, 'us-epa-index': 2, 'gb-defra-index': 2}}}\n"
     ]
    }
   ],
   "source": [
    "url = f\"http://api.weatherapi.com/v1/current.json?key={api_key}&q=New_York&aqi=yes\"\n",
    "\n",
    "#response = requests.get(url)\n",
    "#weather = response.json()\n",
    "print(weather)\n"
   ]
  },
  {
   "attachments": {},
   "cell_type": "markdown",
   "metadata": {
    "collapsed": true
   },
   "source": [
    "## 2) Compare the air quality for NYC and Toronto, Canada\n",
    "\n",
    "Using PM2.5 measurements, compare the air quality of NYC and Toronto, Canada. If NYC has a higher PM2.5 measurement than Toronto, print \"NYC is worse.\" If Toronto's is higher, print \"Toronto is worse.\"\n",
    "\n",
    "- *Hint: This NYC URL is based on the URL for the current weather of NYC, but is a tiny tiny bit different.*\n",
    "- *Hint: You'll need to add an additional option to the URL to include air quality data*\n",
    "- *Hint: You'll (probably) need multiple variables instead of just using `data` twice*"
   ]
  },
  {
   "cell_type": "code",
   "execution_count": 73,
   "metadata": {},
   "outputs": [
    {
     "name": "stdout",
     "output_type": "stream",
     "text": [
      "18.600000381469727\n",
      "14.199999809265137\n"
     ]
    }
   ],
   "source": [
    "\n",
    "url = f\"http://api.weatherapi.com/v1/current.json?key={api_key}&q=New_York&aqi=yes\"\n",
    "response = requests.get(url)\n",
    "NYCdata = response.json()\n",
    "print(NYCdata['current']['air_quality']['pm2_5'])\n",
    "\n",
    "url = f\"http://api.weatherapi.com/v1/current.json?key={api_key}&q=YYZ&aqi=yes\"\n",
    "response = requests.get(url)\n",
    "Toronto = response.json()\n",
    "print(Toronto['current']['air_quality']['pm2_5'])"
   ]
  },
  {
   "cell_type": "code",
   "execution_count": 74,
   "metadata": {},
   "outputs": [
    {
     "name": "stdout",
     "output_type": "stream",
     "text": [
      "PM2.5 Air Quality Comparison:\n",
      "New York City: 18.600000381469727 µg/m³\n",
      "Toronto: 14.199999809265137 µg/m³\n",
      "New York City has worse air quality\n"
     ]
    }
   ],
   "source": [
    "import requests\n",
    "\n",
    "def get_pm25_air_quality(city):\n",
    "    #api_key = \"api_key\"  # Replace with your WeatherAPI.com API key\n",
    "    url = f\"http://api.weatherapi.com/v1/current.json?key={api_key}&q={city}&aqi=yes\"\n",
    "    response = requests.get(url)\n",
    "    data = response.json()\n",
    "    pm25 = data['current']['air_quality']['pm2_5']\n",
    "    return pm25\n",
    "\n",
    "nyc_pm25_air_quality = get_pm25_air_quality(\"New York\")\n",
    "toronto_pm25_air_quality = get_pm25_air_quality(\"Toronto\")\n",
    "\n",
    "print(\"PM2.5 Air Quality Comparison:\")\n",
    "print(\"New York City:\", nyc_pm25_air_quality, \"µg/m³\")\n",
    "print(\"Toronto:\", toronto_pm25_air_quality, \"µg/m³\")\n",
    "\n",
    "if nyc_pm25_air_quality > toronto_pm25_air_quality:\n",
    "    print(\"New York City has worse air quality\")\n",
    "else:\n",
    "    print(\"Toronto is worse\")"
   ]
  },
  {
   "cell_type": "code",
   "execution_count": null,
   "metadata": {},
   "outputs": [],
   "source": []
  },
  {
   "cell_type": "code",
   "execution_count": null,
   "metadata": {},
   "outputs": [
    {
     "name": "stdout",
     "output_type": "stream",
     "text": [
      "Toronto is worse\n"
     ]
    }
   ],
   "source": []
  },
  {
   "attachments": {},
   "cell_type": "markdown",
   "metadata": {},
   "source": [
    "## 2) Print the time zones for both NYC and Toronto.\n",
    "\n",
    "If they have the same time, print \"it is (the time) in both cities.\" If not, print \"It is (nyc time) in NYC and (Toronto time) in Toronto.\"\n",
    "\n",
    "- *Hint: Both cities should have the same local time. If they don't, what's going on? It's a code issue!*\n",
    "- *Hint: f-strings are unwieldy here, I'd just use the comma version of `print`*"
   ]
  },
  {
   "cell_type": "code",
   "execution_count": 41,
   "metadata": {},
   "outputs": [
    {
     "name": "stdout",
     "output_type": "stream",
     "text": [
      "America/New_York\n",
      "2023-06-26 22:57\n"
     ]
    }
   ],
   "source": [
    "print(NYC['location']['tz_id'])\n",
    "print(NYC['location']['localtime'])\n",
    "\n"
   ]
  },
  {
   "cell_type": "code",
   "execution_count": 42,
   "metadata": {},
   "outputs": [
    {
     "name": "stdout",
     "output_type": "stream",
     "text": [
      "America/New_York\n",
      "2023-06-26 22:57\n"
     ]
    }
   ],
   "source": [
    "print(Toronto['location']['tz_id'])\n",
    "print(Toronto['location']['localtime'])\n",
    "\n"
   ]
  },
  {
   "cell_type": "code",
   "execution_count": 52,
   "metadata": {},
   "outputs": [
    {
     "name": "stdout",
     "output_type": "stream",
     "text": [
      "It is 2023-06-26 22:57 in both places\n"
     ]
    }
   ],
   "source": [
    "NYC_time = (NYC['location']['localtime'])\n",
    "#NYC_time = int(NYC_time)\n",
    "Toronto_time = (Toronto['location']['localtime'])\n",
    "\n",
    "\n",
    "if NYC_time == Toronto_time:\n",
    "    print(\"It is\",NYC_time,\"in both places\")\n",
    "else:\n",
    "    print(\"It is\",NYC_time,\"in NYC and\",Toronto_time,\"in Toronto\")"
   ]
  },
  {
   "attachments": {},
   "cell_type": "markdown",
   "metadata": {},
   "source": [
    "## 3) Speaking of Canada, don't they have a London up there?\n",
    "\n",
    "Print out every city that is called \"London,\" along with the region and country it is in. Your output should look like:\n",
    "\n",
    "```\n",
    "There is a London in United Kingdom\n",
    "There is a London in Canada\n",
    "```\n",
    "\n",
    "Do **not** print out `Londonderry`, since it isn't actually a London.\n",
    "\n",
    "- *Hint: You'll need an `if` for that last part*"
   ]
  },
  {
   "cell_type": "code",
   "execution_count": 88,
   "metadata": {},
   "outputs": [
    {
     "name": "stdout",
     "output_type": "stream",
     "text": [
      "City: London, Region: City of London, Greater London, Country: United Kingdom\n",
      "City: London, Region: Ontario, Country: Canada\n"
     ]
    }
   ],
   "source": [
    "\n",
    "def get_londons(city):\n",
    "    url = f\"http://api.weatherapi.com/v1/search.json?key={api_key}&q={city}\"\n",
    "    response = requests.get(url)\n",
    "    data = response.json()\n",
    "    return data\n",
    "\n",
    "londons = get_londons(\"London\")\n",
    "\n",
    "for london in londons:\n",
    "    city_name = london['name']\n",
    "    region = london['region']\n",
    "    country = london['country']\n",
    "    if city_name != \"Londonderry\":\n",
    "        print(f\"City: {city_name}, Region: {region}, Country: {country}\")\n",
    "    "
   ]
  },
  {
   "cell_type": "code",
   "execution_count": 83,
   "metadata": {},
   "outputs": [
    {
     "name": "stdout",
     "output_type": "stream",
     "text": [
      "Cities matching 'London':\n",
      "City: London, Region: City of London, Greater London, Country: United Kingdom\n",
      "City: London, Region: Ontario, Country: Canada\n",
      "City: Londonderry, Region: North Yorkshire, Country: United Kingdom\n"
     ]
    }
   ],
   "source": [
    "import requests\n",
    "\n",
    "def get_city_info(city):\n",
    "    #api_key = \"YOUR_API_KEY\"  # Replace with your WeatherAPI.com API key\n",
    "    url = f\"http://api.weatherapi.com/v1/search.json?key={api_key}&q={city}\"\n",
    "    response = requests.get(url)\n",
    "    data = response.json()\n",
    "    return data\n",
    "\n",
    "city_info = get_city_info(\"London\")\n",
    "\n",
    "print(\"Cities matching 'London':\")\n",
    "for city in city_info:\n",
    "    city_name = city['name']\n",
    "    region = city['region']\n",
    "    country = city['country']\n",
    "    print(f\"City: {city_name}, Region: {region}, Country: {country}\")"
   ]
  }
 ],
 "metadata": {
  "kernelspec": {
   "display_name": "Python 3 (ipykernel)",
   "language": "python",
   "name": "python3"
  },
  "language_info": {
   "codemirror_mode": {
    "name": "ipython",
    "version": 3
   },
   "file_extension": ".py",
   "mimetype": "text/x-python",
   "name": "python",
   "nbconvert_exporter": "python",
   "pygments_lexer": "ipython3",
   "version": "3.10.11"
  }
 },
 "nbformat": 4,
 "nbformat_minor": 1
}
