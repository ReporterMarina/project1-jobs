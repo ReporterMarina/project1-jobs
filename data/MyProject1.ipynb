{
 "cells": [
  {
   "cell_type": "markdown",
   "id": "bcd91aa2",
   "metadata": {},
   "source": [
    "I want to see whether the public and private sector has regained jobs lost in the pandemic in MA. \n",
    "\n",
    "I also wanted to zoom in on certain sectors to see if job loss where any job loss has been concentrated.\n",
    "\n",
    "Using APIs from BLS.gov.\n"
   ]
  },
  {
   "cell_type": "code",
   "execution_count": null,
   "id": "e9692848",
   "metadata": {},
   "outputs": [],
   "source": [
    "#import stuff\n",
    "from dotenv import load_dotenv\n",
    "import os\n",
    "import requests\n",
    "import matplotlib.pyplot as plt\n"
   ]
  },
  {
   "cell_type": "code",
   "execution_count": null,
   "id": "c3087229",
   "metadata": {},
   "outputs": [],
   "source": [
    "#take api key from .env\n",
    "\n",
    "load_dotenv()  # Take environmental variables from .env\n"
   ]
  },
  {
   "cell_type": "code",
   "execution_count": null,
   "id": "621c262c",
   "metadata": {},
   "outputs": [],
   "source": [
    "#get bls key\n",
    "BLS_key = os.getenv(\"BLS_key\")\n"
   ]
  },
  {
   "cell_type": "code",
   "execution_count": null,
   "id": "ef0f6890",
   "metadata": {},
   "outputs": [],
   "source": [
    "#get PRIVATE SECTOR DATA\n",
    "\n",
    "private_url = f'https://api.bls.gov/publicAPI/v2/timeseries/data/SMU25000000500000001?startyear=2019&endyear=2023&registrationkey={BLS_key}'\n",
    "response = requests.get(private_url)\n",
    "data = response.json()\n",
    "series_data = data['Results']['series'][0]['data']\n"
   ]
  },
  {
   "cell_type": "code",
   "execution_count": null,
   "id": "03d5c3a5",
   "metadata": {},
   "outputs": [],
   "source": [
    "#private sector variables\n",
    "\n",
    "months = []\n",
    "employment = []\n",
    "job_may_19 = 0\n",
    "job_may_23 = 0"
   ]
  },
  {
   "cell_type": "code",
   "execution_count": null,
   "id": "1eef9a58",
   "metadata": {},
   "outputs": [],
   "source": [
    "#for loops to get private sector variables\n",
    "\n",
    "for data_point in series_data:\n",
    "    year = int(data_point['year'])\n",
    "    period = data_point['period']\n",
    "    job = float(data_point['value'])\n",
    "\n",
    "    if period == 'M05' and year == 2019:\n",
    "        job_may_19 = job\n",
    "        print(f\"Private Sector Jobs in May 2019: {job_may_19}\")\n",
    "\n",
    "for data_point in series_data:\n",
    "    year = int(data_point['year'])\n",
    "    period = data_point['period']\n",
    "    job = float(data_point['value'])\n",
    "    months.append(year + int(period[1:])/12)  # Combine year and month as a decimal for x-axis\n",
    "    employment.append(job)\n",
    "\n",
    "    if period == 'M05' and year == 2023:\n",
    "        job_may_23 = job\n",
    "        print(f\"Private Sector Jobs in May 2023: {job_may_23}\")\n"
   ]
  },
  {
   "cell_type": "code",
   "execution_count": null,
   "id": "eb05584d",
   "metadata": {},
   "outputs": [],
   "source": [
    "#graph private sector data\n",
    "\n",
    "plt.plot(months, employment)\n",
    "plt.xlabel('Year and Month')\n",
    "plt.ylabel('Jobs in thousands')\n",
    "plt.title('Private Sector Jobs in Massachusetts by Month')\n",
    "plt.show()"
   ]
  },
  {
   "cell_type": "code",
   "execution_count": null,
   "id": "375eb4c7",
   "metadata": {},
   "outputs": [],
   "source": [
    "#get local govt data\n",
    "\n",
    "local_url = f'https://api.bls.gov/publicAPI/v2/timeseries/data/SMU25716509093000001?startyear=2019&endyear=2023&registrationkey={BLS_key}'\n",
    "response = requests.get(local_url)\n",
    "data = response.json()\n",
    "local_data = data['Results']['series'][0]['data']\n"
   ]
  },
  {
   "cell_type": "code",
   "execution_count": null,
   "id": "45ae91e2",
   "metadata": {},
   "outputs": [],
   "source": [
    "#get local variables\n",
    "\n",
    "local_months = []\n",
    "local_jobs = []\n",
    "local_job_may_19 = 0\n",
    "local_job_may_23 = 0"
   ]
  },
  {
   "cell_type": "code",
   "execution_count": null,
   "id": "6f3d76be",
   "metadata": {},
   "outputs": [],
   "source": [
    "#for loops to get local govt variables\n",
    "\n",
    "for data_point in local_data:\n",
    "    local_year = int(data_point['year'])\n",
    "    local_period = data_point['period']\n",
    "    local_job = float(data_point['value'])\n",
    "    local_months.append(local_year + int(local_period[1:]) / 12)  # Combine year and month as a decimal for x-axis\n",
    "    local_jobs.append(local_job)\n",
    "\n",
    "    if local_period == 'M05' and local_year == 2019:\n",
    "        local_job_may_19 = local_job\n",
    "        print(f\"Local Government Jobs in May 2019: {local_job_may_19}\")\n",
    "\n",
    "for data_point in local_data:\n",
    "    local_year = int(data_point['year'])\n",
    "    local_period = data_point['period']\n",
    "    local_job = float(data_point['value'])\n",
    "\n",
    "    if local_period == 'M05' and local_year == 2023:\n",
    "        local_job_may_23 = local_job\n",
    "        print(f\"Local Government Jobs in May 2023: {local_job_may_23}\")\n"
   ]
  },
  {
   "cell_type": "code",
   "execution_count": null,
   "id": "d0796ee6",
   "metadata": {},
   "outputs": [],
   "source": [
    "#plot local govt data\n",
    "\n",
    "plt.plot(local_months, local_jobs)\n",
    "plt.xlabel('Year and Month')\n",
    "plt.ylabel('Jobs (Thousands)')\n",
    "plt.title('Local Govt Jobs in Massachusetts by Month')\n",
    "plt.show()"
   ]
  },
  {
   "cell_type": "code",
   "execution_count": null,
   "id": "da4c9537",
   "metadata": {},
   "outputs": [],
   "source": [
    "#get state govt data\n",
    "\n",
    "state_url = f'https://api.bls.gov/publicAPI/v2/timeseries/data/SMU25000009092000001?startyear=2019&endyear=2023&registrationkey={BLS_key}'\n",
    "response = requests.get(state_url)\n",
    "data = response.json()\n",
    "state_data = data['Results']['series'][0]['data']\n"
   ]
  },
  {
   "cell_type": "code",
   "execution_count": null,
   "id": "a3ba14fe",
   "metadata": {},
   "outputs": [],
   "source": [
    "#make state govt variables\n",
    "\n",
    "state_months = []\n",
    "state_jobs = []\n",
    "state_job_may_19 = 0\n",
    "state_job_may_23 = 0"
   ]
  },
  {
   "cell_type": "code",
   "execution_count": null,
   "id": "c4ae84f8",
   "metadata": {},
   "outputs": [],
   "source": [
    "#forloops to get state gov data into variables\n",
    "\n",
    "for data_point in state_data:\n",
    "    state_year = int(data_point['year'])\n",
    "    state_period = data_point['period']\n",
    "    state_job = float(data_point['value'])\n",
    "    state_months.append(state_year + int(state_period[1:]) / 12)  # Combine year and month as a decimal for x-axis\n",
    "    state_jobs.append(state_job)\n",
    "\n",
    "    if state_period == 'M05' and state_year == 2019:\n",
    "        state_job_may_19 = state_job\n",
    "        print(f\"State Government Jobs in May 2019: {state_job_may_19}\")\n",
    "\n",
    "for data_point in state_data:\n",
    "    state_year = int(data_point['year'])\n",
    "    state_period = data_point['period']\n",
    "    state_job = float(data_point['value'])\n",
    "\n",
    "    if state_period == 'M05' and state_year == 2023:\n",
    "        state_job_may_23 = state_job\n",
    "        print(f\"State Government Jobs in May 2023: {state_job_may_23}\")\n"
   ]
  },
  {
   "cell_type": "code",
   "execution_count": null,
   "id": "690b8dad",
   "metadata": {},
   "outputs": [],
   "source": [
    "#graph state govt data\n",
    "\n",
    "plt.plot(state_months, state_jobs)\n",
    "plt.xlabel('Year and Month')\n",
    "plt.ylabel('Jobs (Thousands)')\n",
    "plt.title('State Govt Jobs in Massachusetts by Month')\n",
    "plt.show()"
   ]
  },
  {
   "cell_type": "code",
   "execution_count": null,
   "id": "e157aec3",
   "metadata": {},
   "outputs": [],
   "source": [
    "#calculate if private jobs have recovered\n",
    "if job_may_23 >= job_may_19:\n",
    "    print(\"Private sector jobs in MA have recovered since the pandemic\")\n",
    "else:\n",
    "    print(\"Private sector jobs in MA have not recovered since the pandemic\")\n",
    "\n",
    "print('')\n"
   ]
  },
  {
   "cell_type": "code",
   "execution_count": null,
   "id": "b9c1fcf7",
   "metadata": {},
   "outputs": [],
   "source": [
    "#calculate if state government jobs have recovered\n",
    "if local_job_may_23 >= local_job_may_19:\n",
    "    print(\"Local government jobs in MA have recovered since the pandemic\")\n",
    "else:\n",
    "    print(\"Local government jobs in MA have not recovered since the pandemic\")\n",
    "\n",
    "print('')"
   ]
  },
  {
   "cell_type": "code",
   "execution_count": null,
   "id": "ec83104f",
   "metadata": {},
   "outputs": [],
   "source": [
    "#calculate if state government jobs have recovered\n",
    "if state_job_may_23 >= state_job_may_19:\n",
    "    print(\"State government jobs in MA have recovered since the pandemic\")\n",
    "else:\n",
    "    print(\"State government jobs in MA have not recovered since the pandemic\")\n",
    "\n",
    "print('')"
   ]
  },
  {
   "cell_type": "code",
   "execution_count": null,
   "id": "0ac35dcf",
   "metadata": {},
   "outputs": [],
   "source": [
    "#calculate what percentage of private jobs have been recovered\n",
    "percentage_private_recovered = (job_may_23 / job_may_19)\n",
    "print(f\"Percentage of private sector jobs recovered:{percentage_private_recovered}%\")\n",
    "loss_Job = job_may_23 - job_may_19\n",
    "loss_Job_change = (loss_Job / job_may_19)\n",
    "\n",
    "if loss_Job < 0:\n",
    "    loss_Job_change = round(abs(loss_Job_change)*100)\n",
    "    print(f\"That's a {loss_Job_change} percent drop.\")\n",
    "    loss_Job = round(abs(loss_Job)*1000)\n",
    "    print(f\"{loss_Job} private sector jobs have been lost.\")\n",
    "else:\n",
    "    loss_Job_change = round(abs(loss_Job_change)*100)\n",
    "    print(f\"That's a {loss_Job_change} percent gain.\")\n",
    "    loss_Job = round(abs(loss_Job)*1000)\n",
    "    print(f\"{loss_Job} private sector jobs have been gained.\")\n",
    "\n",
    "print('')"
   ]
  },
  {
   "cell_type": "code",
   "execution_count": null,
   "id": "c6e7eb44",
   "metadata": {},
   "outputs": [],
   "source": [
    "#calculate what percentage of local government jobs have been recovered\n",
    "percentage_local_recovered = (local_job_may_23 / local_job_may_19)\n",
    "print(f\"Percentage of local government jobs recovered:{percentage_local_recovered}%\")\n",
    "loss_local = local_job_may_23 - local_job_may_19\n",
    "loss_local_change = (loss_local / local_job_may_19)\n",
    "\n",
    "if loss_local < 0:\n",
    "    loss_local_change = round(abs(loss_local_change)*100)\n",
    "    print(f\"That's a {loss_local_change} percent drop.\")\n",
    "    loss_local =round(abs(loss_local)*1000)\n",
    "    print(f\"{loss_local} local government jobs have been lost.\")\n",
    "else:\n",
    "    loss_local_change = round(abs(loss_local_change)*100)\n",
    "    print(f\"That's a {loss_local_change} percent gain.\")\n",
    "    loss_local = round(abs(loss_local)*1000)\n",
    "    print(f\"{loss_local} local government jobs have been gained.\")\n",
    "\n",
    "print('')"
   ]
  },
  {
   "cell_type": "code",
   "execution_count": null,
   "id": "16476c8e",
   "metadata": {},
   "outputs": [],
   "source": [
    "#calculate what percentage of state jobs have been recovered\n",
    "percentage_state_recovered = (state_job_may_23 / state_job_may_19)\n",
    "print(f\"Percentage of state government jobs recovered:{percentage_state_recovered}%\")\n",
    "loss_state = state_job_may_23 - state_job_may_19\n",
    "loss_state_change = (loss_state / state_job_may_19)\n",
    "\n",
    "if loss_state < 0:\n",
    "    loss_state_change = round(abs(loss_state_change)*100)\n",
    "    print(f\"That's a {loss_state_change} percent drop.\")\n",
    "    loss_state = round(abs(loss_state)*1000)\n",
    "    print(f\"{loss_state} state government jobs have been lost.\")\n",
    "else:\n",
    "    loss_state_change = round(abs(loss_state_change)*100)\n",
    "    print(f\"That's a {loss_state_change} percent gain.\")\n",
    "    loss_state = round(abs(loss_state)*1000)\n",
    "    print(f\"{loss_state}  state government jobs have been gained.\")\n",
    "\n",
    "print('')\n"
   ]
  },
  {
   "cell_type": "code",
   "execution_count": null,
   "id": "85279624",
   "metadata": {},
   "outputs": [],
   "source": [
    "###state government excluding education\n",
    "NoEd_url = f'https://api.bls.gov/publicAPI/v2/timeseries/data/SMU25000009092200001?startyear=2019&endyear=2023&registrationkey={BLS_key}'\n",
    "response = requests.get(NoEd_url)\n",
    "data = response.json()\n",
    "NoEd_data = data['Results']['series'][0]['data']\n",
    "\n",
    "NoEd_months = []\n",
    "NoEd_jobs = []\n",
    "NoEd_job_may_19 = 0\n",
    "NoEd_job_may_23 = 0"
   ]
  },
  {
   "cell_type": "code",
   "execution_count": null,
   "id": "ebb2eb6d",
   "metadata": {},
   "outputs": [],
   "source": [
    "#get state govt no education data\n",
    "\n",
    "for data_point in NoEd_data:\n",
    "    NoEd_year = int(data_point['year'])\n",
    "    NoEd_period = data_point['period']\n",
    "    NoEd_job = float(data_point['value'])\n",
    "    NoEd_months.append(NoEd_year + int(NoEd_period[1:]) / 12)  # Combine year and month as a decimal for x-axis\n",
    "    NoEd_jobs.append(NoEd_job)\n",
    "\n",
    "    if NoEd_period == 'M05' and NoEd_year == 2019:\n",
    "        NoEd_job_may_19 = NoEd_job\n",
    "        print(f\"State Government (Excluding Education) Jobs in May 2019: {NoEd_job_may_19}\")\n",
    "\n",
    "for data_point in NoEd_data:\n",
    "    NoEd_year = int(data_point['year'])\n",
    "    NoEd_period = data_point['period']\n",
    "    NoEd_job = float(data_point['value'])\n",
    "\n",
    "    if NoEd_period == 'M05' and NoEd_year == 2023:\n",
    "        NoEd_job_may_23 = NoEd_job\n",
    "        print(f\"State Government (Excluding Education) Jobs in May 2023: {NoEd_job_may_23}\")\n"
   ]
  },
  {
   "cell_type": "code",
   "execution_count": null,
   "id": "67c79e9f",
   "metadata": {},
   "outputs": [],
   "source": [
    "#plot state govt no education jobs\n",
    "\n",
    "plt.plot(NoEd_months, NoEd_jobs)\n",
    "plt.xlabel('Year and Month')\n",
    "plt.ylabel('Jobs (Thousands)')\n",
    "plt.title('State Govt Jobs (Excluding Education) in Massachusetts by Month')\n",
    "plt.show()"
   ]
  },
  {
   "cell_type": "code",
   "execution_count": null,
   "id": "3f2e9518",
   "metadata": {},
   "outputs": [],
   "source": [
    "###state government education - get url\n",
    "Ed_url = f'https://api.bls.gov/publicAPI/v2/timeseries/data/SMU25000009092161101?startyear=2019&endyear=2023&registrationkey={BLS_key}'\n",
    "response = requests.get(Ed_url)\n",
    "data = response.json()\n",
    "Ed_data = data['Results']['series'][0]['data']\n",
    "\n",
    "Ed_months = []\n",
    "Ed_jobs = []\n",
    "Ed_job_may_19 = 0\n",
    "Ed_job_may_23 = 0"
   ]
  },
  {
   "cell_type": "code",
   "execution_count": null,
   "id": "89d917ff",
   "metadata": {},
   "outputs": [],
   "source": [
    "##state government education - get data\n",
    "for data_point in Ed_data:\n",
    "    Ed_year = int(data_point['year'])\n",
    "    Ed_period = data_point['period']\n",
    "    Ed_job = float(data_point['value'])\n",
    "    Ed_months.append(Ed_year + int(Ed_period[1:]) / 12)  # Combine year and month as a decimal for x-axis\n",
    "    Ed_jobs.append(Ed_job)\n",
    "\n",
    "    if Ed_period == 'M05' and Ed_year == 2019:\n",
    "        Ed_job_may_19 = Ed_job\n",
    "        print(f\"State Government Education Jobs in May 2019: {Ed_job_may_19}\")\n",
    "\n",
    "for data_point in Ed_data:\n",
    "    Ed_year = int(data_point['year'])\n",
    "    Ed_period = data_point['period']\n",
    "    Ed_job = float(data_point['value'])\n",
    "\n",
    "    if Ed_period == 'M05' and Ed_year == 2023:\n",
    "        Ed_job_may_23 = Ed_job\n",
    "        print(f\"State Government Education Jobs in May 2023: {Ed_job_may_23}\")\n"
   ]
  },
  {
   "cell_type": "code",
   "execution_count": null,
   "id": "9c7c646f",
   "metadata": {},
   "outputs": [],
   "source": [
    "##state government education - plot\n",
    "plt.plot(Ed_months, Ed_jobs)\n",
    "plt.xlabel('Year and Month')\n",
    "plt.ylabel('Jobs (Thousands)')\n",
    "plt.title('State Govt Jobs Education in Massachusetts by Month')\n",
    "plt.show()"
   ]
  },
  {
   "cell_type": "code",
   "execution_count": null,
   "id": "ae5acf2a",
   "metadata": {},
   "outputs": [],
   "source": [
    "###state government hospitals - get url\n",
    "Hosp_url = f'https://api.bls.gov/publicAPI/v2/timeseries/data/SMU25000009092262201?startyear=2019&endyear=2023&registrationkey={BLS_key}'\n",
    "response = requests.get(Hosp_url)\n",
    "data = response.json()\n",
    "Hosp_data = data['Results']['series'][0]['data']\n",
    "\n",
    "Hosp_months = []\n",
    "Hosp_jobs = []\n",
    "Hosp_job_may_19 = 0\n",
    "Hosp_job_may_23 = 0"
   ]
  },
  {
   "cell_type": "code",
   "execution_count": null,
   "id": "7a0b8093",
   "metadata": {},
   "outputs": [],
   "source": [
    "###state government hospitals - get data\n",
    "\n",
    "for data_point in Hosp_data:\n",
    "    Hosp_year = int(data_point['year'])\n",
    "    Hosp_period = data_point['period']\n",
    "    Hosp_job = float(data_point['value'])\n",
    "    Hosp_months.append(Hosp_year + int(Hosp_period[1:]) / 12)  # Combine year and month as a decimal for x-axis\n",
    "    Hosp_jobs.append(Hosp_job)\n",
    "\n",
    "    if Hosp_period == 'M05' and Hosp_year == 2019:\n",
    "        Hosp_job_may_19 = Hosp_job\n",
    "        print(f\"State Government Hospital Jobs in May 2019: {Hosp_job_may_19}\")\n",
    "\n",
    "for data_point in Hosp_data:\n",
    "    Hosp_year = int(data_point['year'])\n",
    "    Hosp_period = data_point['period']\n",
    "    Hosp_job = float(data_point['value'])\n",
    "\n",
    "    if Hosp_period == 'M05' and Hosp_year == 2023:\n",
    "        Hosp_job_may_23 = Hosp_job\n",
    "        print(f\"State Government Hospital Jobs in May 2023: {Hosp_job_may_23}\")\n",
    "\n",
    "print('')"
   ]
  },
  {
   "cell_type": "code",
   "execution_count": null,
   "id": "5ca7a031",
   "metadata": {},
   "outputs": [],
   "source": [
    "###state government hospitals - plot data\n",
    "\n",
    "plt.plot(Hosp_months, Hosp_jobs)\n",
    "plt.xlabel('Year and Month')\n",
    "plt.ylabel('Jobs (Thousands)')\n",
    "plt.title('State Govt Hospital Jobs in MA by Month')\n",
    "plt.show()"
   ]
  },
  {
   "cell_type": "code",
   "execution_count": null,
   "id": "8f7ed27b",
   "metadata": {},
   "outputs": [],
   "source": [
    "#calculate if state government jobs excluding education have recovered\n",
    "if NoEd_job_may_23 >= NoEd_job_may_19:\n",
    "    print(\"State government jobs excluding education in MA have recovered since the pandemic\")\n",
    "else:\n",
    "    print(\"State government jobs excluding education have not recovered since the pandemic\")\n",
    "\n",
    "print('')"
   ]
  },
  {
   "cell_type": "code",
   "execution_count": null,
   "id": "a40f838f",
   "metadata": {},
   "outputs": [],
   "source": [
    "#calculate if state government education jobs have recovered\n",
    "if Ed_job_may_23 >= Ed_job_may_19:\n",
    "    print(\"State government education jobs in MA have recovered since the pandemic\")\n",
    "else:\n",
    "    print(\"State government education jobs in MA have not recovered since the pandemic\")\n",
    "\n",
    "print('')"
   ]
  },
  {
   "cell_type": "code",
   "execution_count": null,
   "id": "2eb6e985",
   "metadata": {},
   "outputs": [],
   "source": [
    "#calculate if state government hospital jobs have recovered\n",
    "if Hosp_job_may_23 >= Hosp_job_may_19:\n",
    "    print(\"State government hospital jobs in MA have recovered since the pandemic\")\n",
    "else:\n",
    "    print(\"State government hospital jobs in MA have not recovered since the pandemic\")\n",
    "\n",
    "print('')"
   ]
  },
  {
   "cell_type": "code",
   "execution_count": null,
   "id": "5cfc352d",
   "metadata": {},
   "outputs": [],
   "source": [
    "#calculate what percentage of state government jobs excluding education jobs have been recovered\n",
    "percentage_NoEd_recovered = (NoEd_job_may_23 / NoEd_job_may_19)\n",
    "loss_NoEd = NoEd_job_may_23 - NoEd_job_may_19\n",
    "loss_NoEd_change = (loss_NoEd / Ed_job_may_19)\n",
    "print(f\"Percentage of state government jobs (excluding education) recovered:{percentage_NoEd_recovered}%\")\n",
    "\n",
    "if loss_NoEd < 0:\n",
    "    loss_NoEd_change = round(abs(loss_NoEd_change)*100)\n",
    "    print(f\"That's a {loss_NoEd_change} percent drop.\")\n",
    "    loss_NoEd = round(abs(loss_NoEd)*1000)\n",
    "    print(f\"{loss_NoEd} state government jobs (excluding education) jobs have been lost.\")\n",
    "else:\n",
    "    loss_NoEd_change = round(abs(loss_NoEd_change)*100)\n",
    "    print(f\"That's a {loss_NoEd_change} percent gain.\")\n",
    "    loss_NoEd = round(abs(loss_NoEd)*1000)\n",
    "    print(f\"{loss_NoEd} state government jobs (excluding education) jobs have been gained.\")\n",
    "\n",
    "print('')\n"
   ]
  },
  {
   "cell_type": "code",
   "execution_count": null,
   "id": "c06e948c",
   "metadata": {},
   "outputs": [],
   "source": [
    "#calculate what percentage of state government education jobs  have been recovered\n",
    "percentage_Ed_recovered = (Ed_job_may_23 / Ed_job_may_19)\n",
    "loss_Ed = Ed_job_may_23 - Ed_job_may_19\n",
    "loss_Ed_change = (loss_Ed / Ed_job_may_19)\n",
    "print(f\"Percentage of state government education jobs recovered:{percentage_Ed_recovered}%\")\n",
    "\n",
    "if loss_Ed < 0:\n",
    "    loss_Ed_change = round(abs(loss_Ed_change)*100)\n",
    "    print(f\"That's a {loss_Ed_change} percent drop.\")\n",
    "    loss_Ed = round(abs(loss_Ed)*1000)\n",
    "    print(f\"{loss_Ed} jobs have been lost.\")\n",
    "else:\n",
    "    loss_Ed_change = round(abs(loss_Ed_change)*100)\n",
    "    print(f\"That's a {loss_Ed_change} percent gain.\")\n",
    "    loss_Ed = round(abs(loss_Ed)*1000)\n",
    "    print(f\"{loss_Ed} jobs have been gained.\")\n",
    "\n",
    "print('')"
   ]
  },
  {
   "cell_type": "code",
   "execution_count": null,
   "id": "fea04053",
   "metadata": {},
   "outputs": [],
   "source": [
    "#calculate what percentage of state government hospital jobs have been recovered\n",
    "percentage_Hosp_recovered = (Hosp_job_may_23 / Hosp_job_may_19)\n",
    "loss_Hosp = Hosp_job_may_23 - Hosp_job_may_19\n",
    "loss_Hosp_change = (loss_Hosp / Hosp_job_may_19)\n",
    "print(f\"Percentage of state government hospital jobs recovered:{percentage_Hosp_recovered}%\")\n",
    "\n",
    "if loss_Hosp < 0:\n",
    "    loss_Hosp_change = round(abs(loss_Hosp_change)*100)\n",
    "    print(f\"That's a {loss_Hosp_change} percent drop.\")\n",
    "    loss_Hosp = round(abs(loss_Hosp)*1000)\n",
    "    print(f\"{loss_Hosp} state government hospital jobs have been lost.\")\n",
    "else:\n",
    "    loss_Hosp_change = round(abs(loss_Hosp_change)*100)\n",
    "    print(f\"That's a {loss_Hosp_change} percent gain.\")\n",
    "    loss_Hosp = round(abs(loss_Hosp)*1000)\n",
    "    print(f\"{loss_Hosp} state government hospital jobs have been gained.\")\n",
    "\n",
    "print('')"
   ]
  },
  {
   "cell_type": "code",
   "execution_count": null,
   "id": "b7a8d8c7",
   "metadata": {},
   "outputs": [],
   "source": [
    "###hospitals - get url\n",
    "All_Hosp_url = f'https://api.bls.gov/publicAPI/v2/timeseries/data/SMU25000006562200001?startyear=2019&endyear=2023&registrationkey={BLS_key}'\n",
    "response = requests.get(All_Hosp_url)\n",
    "data = response.json()\n",
    "All_Hosp_data = data['Results']['series'][0]['data']\n",
    "\n",
    "All_Hosp_months = []\n",
    "All_Hosp_jobs = []\n",
    "All_Hosp_job_may_19 = 0\n",
    "All_Hosp_job_may_23 = 0"
   ]
  },
  {
   "cell_type": "code",
   "execution_count": null,
   "id": "374ddb83",
   "metadata": {},
   "outputs": [],
   "source": [
    "###hospitals - get data\n",
    "\n",
    "for data_point in All_Hosp_data:\n",
    "    All_Hosp_year = int(data_point['year'])\n",
    "    All_Hosp_period = data_point['period']\n",
    "    All_Hosp_job = float(data_point['value'])\n",
    "    All_Hosp_months.append(All_Hosp_year + int(All_Hosp_period[1:]) / 12)  # Combine year and month as a decimal for x-axis\n",
    "    All_Hosp_jobs.append(All_Hosp_job)\n",
    "\n",
    "    if All_Hosp_period == 'M05' and All_Hosp_year == 2019:\n",
    "        All_Hosp_job_may_19 = All_Hosp_job\n",
    "        print(f\"Hospital Jobs in May 2019: {All_Hosp_job_may_19}\")\n",
    "\n",
    "for data_point in All_Hosp_data:\n",
    "    All_Hosp_year = int(data_point['year'])\n",
    "    All_Hosp_period = data_point['period']\n",
    "    All_Hosp_job = float(data_point['value'])\n",
    "\n",
    "    if All_Hosp_period == 'M05' and All_Hosp_year == 2023:\n",
    "        All_Hosp_job_may_23 = All_Hosp_job\n",
    "        print(f\"Hospital Jobs in May 2023: {All_Hosp_job_may_23}\")\n"
   ]
  },
  {
   "cell_type": "code",
   "execution_count": null,
   "id": "bd9931f5",
   "metadata": {},
   "outputs": [],
   "source": [
    "#plot hosp jobs\n",
    "\n",
    "plt.plot(All_Hosp_months, All_Hosp_jobs)\n",
    "plt.xlabel('Year and Month')\n",
    "plt.ylabel('Jobs (Thousands)')\n",
    "plt.title('Hospital Jobs in MA by Month')\n",
    "plt.show()"
   ]
  },
  {
   "cell_type": "code",
   "execution_count": null,
   "id": "57558b8e",
   "metadata": {},
   "outputs": [],
   "source": [
    "###nursing homes get url\n",
    "Nursing_url = f'https://api.bls.gov/publicAPI/v2/timeseries/data/SMU25000006562300001?startyear=2019&endyear=2023&registrationkey={BLS_key}'\n",
    "response = requests.get(Nursing_url)\n",
    "data = response.json()\n",
    "Nursing_data = data['Results']['series'][0]['data']\n",
    "\n",
    "Nursing_months = []\n",
    "Nursing_jobs = []\n",
    "Nursing_job_may_19 = 0\n",
    "Nursing_job_may_23 = 0"
   ]
  },
  {
   "cell_type": "code",
   "execution_count": null,
   "id": "c1781be0",
   "metadata": {},
   "outputs": [],
   "source": [
    "###nursing homes get data\n",
    "\n",
    "for data_point in Nursing_data:\n",
    "    Nursing_year = int(data_point['year'])\n",
    "    Nursing_period = data_point['period']\n",
    "    Nursing_job = float(data_point['value'])\n",
    "    Nursing_months.append(Nursing_year + int(Nursing_period[1:]) / 12)  # Combine year and month as a decimal for x-axis\n",
    "    Nursing_jobs.append(Nursing_job)\n",
    "\n",
    "    if Nursing_period == 'M05' and Nursing_year == 2019:\n",
    "        Nursing_job_may_19 = Nursing_job\n",
    "        print(f\"Nursing Home Jobs in May 2019: {Nursing_job_may_19}\")\n",
    "\n",
    "for data_point in Nursing_data:\n",
    "    Nursing_year = int(data_point['year'])\n",
    "    Nursing_period = data_point['period']\n",
    "    Nursing_job = float(data_point['value'])\n",
    "\n",
    "    if Nursing_period == 'M05' and Nursing_year == 2023:\n",
    "        Nursing_job_may_23 = Nursing_job\n",
    "        print(f\"Nursing Home Jobs in May 2023: {Nursing_job_may_23}\")\n"
   ]
  },
  {
   "cell_type": "code",
   "execution_count": null,
   "id": "716e7c44",
   "metadata": {},
   "outputs": [],
   "source": [
    "#plot nursing homes\n",
    "plt.plot(Nursing_months, Nursing_jobs)\n",
    "plt.xlabel('Year and Month')\n",
    "plt.ylabel('Jobs (Thousands)')\n",
    "plt.title('Nursing Home Jobs in MA by Month')\n",
    "plt.show()\n",
    "\n",
    "print('')"
   ]
  },
  {
   "cell_type": "code",
   "execution_count": null,
   "id": "e24f0917",
   "metadata": {},
   "outputs": [],
   "source": [
    "#calculate if hospital jobs have recovered\n",
    "if All_Hosp_job_may_23 >= All_Hosp_job_may_19:\n",
    "    print(\"Hospital jobs in MA have recovered since the pandemic\")\n",
    "else:\n",
    "    print(\"Hospital jobs in MA have not recovered since the pandemic\")\n",
    "\n",
    "print('')\n"
   ]
  },
  {
   "cell_type": "code",
   "execution_count": null,
   "id": "305bd5c9",
   "metadata": {},
   "outputs": [],
   "source": [
    "#calculate if nursing home jobs have recovered\n",
    "if Nursing_job_may_23 >= Nursing_job_may_19:\n",
    "    print(\"Nursing home jobs in MA have recovered since the pandemic\")\n",
    "else:\n",
    "    print(\"Nursing home jobs in MA have not recovered since the pandemic\")\n",
    "\n",
    "print('')"
   ]
  },
  {
   "cell_type": "code",
   "execution_count": null,
   "id": "1faa52aa",
   "metadata": {},
   "outputs": [],
   "source": [
    "#calculate what percentage of hospital have been recovered\n",
    "percentage_All_Hosp_recovered = (All_Hosp_job_may_23 / All_Hosp_job_may_19)\n",
    "loss_All_Hosp = All_Hosp_job_may_23 - All_Hosp_job_may_19\n",
    "loss_All_Hosp_change = (loss_All_Hosp / All_Hosp_job_may_19)\n",
    "print(f\"Percentage of hospital jobs recovered:{percentage_All_Hosp_recovered}%\")\n",
    "\n",
    "if loss_All_Hosp < 0:\n",
    "    loss_All_Hosp_change = round(abs(loss_All_Hosp_change)*100)\n",
    "    print(f\"That's a {loss_All_Hosp_change} percent drop.\")\n",
    "    loss_All_Hosp = round(abs(loss_All_Hosp)*1000)\n",
    "    print(f\"{loss_All_Hosp} hospital jobs have been lost.\")\n",
    "else:\n",
    "    loss_All_Hosp_change = round(abs(loss_All_Hosp_change)*100)\n",
    "    print(f\"That's a {loss_All_Hosp_change} percent gain.\")\n",
    "    loss_All_Hosp = round(abs(loss_All_Hosp)*1000)\n",
    "    print(f\"{loss_All_Hosp} hospital jobs have been gained.\")\n",
    "\n",
    "print('')"
   ]
  },
  {
   "cell_type": "code",
   "execution_count": null,
   "id": "a712ba24",
   "metadata": {},
   "outputs": [],
   "source": [
    "#calculate what percentage of nursing home jobs have been recovered\n",
    "percentage_Nursing_recovered = (Nursing_job_may_23 / Nursing_job_may_19)\n",
    "loss_Nursing = Nursing_job_may_23 - Nursing_job_may_19\n",
    "loss_Nursing_change = (loss_Nursing / Nursing_job_may_19)\n",
    "\n",
    "print(f\"Percentage of nursing home jobs recovered:{percentage_Nursing_recovered}%\")\n",
    "\n",
    "if loss_Nursing < 0:\n",
    "    loss_Nursing_change = round(abs(loss_Nursing_change)*100)\n",
    "    print(f\"That's a {loss_Nursing_change} percent drop.\")\n",
    "    loss_Nursing = round(abs(loss_Nursing)*1000)\n",
    "    print(f\"{loss_Nursing} nursing home jobs have been lost.\")\n",
    "else:\n",
    "    loss_Nursing_change = round(abs(loss_Nursing_change)*100)\n",
    "    print(f\"That's a {loss_Nursing_change} percent gain.\")\n",
    "    loss_Nursing = round(abs(loss_All_Hosp)*1000)\n",
    "    print(f\"{loss_Nursing} nursing home jobs have been gained.\")\n",
    "    "
   ]
  }
 ],
 "metadata": {
  "kernelspec": {
   "display_name": "Python 3 (ipykernel)",
   "language": "python",
   "name": "python3"
  },
  "language_info": {
   "codemirror_mode": {
    "name": "ipython",
    "version": 3
   },
   "file_extension": ".py",
   "mimetype": "text/x-python",
   "name": "python",
   "nbconvert_exporter": "python",
   "pygments_lexer": "ipython3",
   "version": "3.10.11"
  }
 },
 "nbformat": 4,
 "nbformat_minor": 5
}
